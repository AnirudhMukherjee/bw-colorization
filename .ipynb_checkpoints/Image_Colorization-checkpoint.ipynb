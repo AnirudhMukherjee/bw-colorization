{
 "cells": [
  {
   "cell_type": "code",
   "execution_count": 1,
   "metadata": {},
   "outputs": [],
   "source": [
    "import numpy as np\n",
    "import cv2"
   ]
  },
  {
   "cell_type": "code",
   "execution_count": 18,
   "metadata": {},
   "outputs": [],
   "source": [
    "image_path = \"C:\\\\Users\\\\aniru\\\\Desktop\\\\bw-colorization\\\\images\\\\mark_twain.jpg\"\n",
    "prototxt_path = \"C:\\\\Users\\\\aniru\\\\Desktop\\\\bw-colorization\\\\model\\\\colorization_deploy_v2.prototxt\"\n",
    "model_path = \"C:\\\\Users\\\\aniru\\\\Desktop\\\\bw-colorization\\\\model\\\\colorization_release_v2.caffemodel\"\n",
    "cluster_points_path = \"C:\\\\Users\\\\aniru\\\\Desktop\\\\bw-colorization\\\\model\\\\pts_in_hull.npy\""
   ]
  },
  {
   "cell_type": "code",
   "execution_count": 10,
   "metadata": {},
   "outputs": [],
   "source": [
    "net = cv2.dnn.readNetFromCaffe(prototxt_path,model_path)\n",
    "pts = np.load(cluster_points_path)"
   ]
  },
  {
   "cell_type": "code",
   "execution_count": 15,
   "metadata": {},
   "outputs": [],
   "source": [
    "class8 = net.getLayerId(\"class8_ab\")\n",
    "conv8 = net.getLayerId('conv8_313_rh')"
   ]
  },
  {
   "cell_type": "code",
   "execution_count": 16,
   "metadata": {},
   "outputs": [],
   "source": [
    "pts = pts.transpose().reshape(2,313,1,1)\n",
    "net.getLayer(class8).blobs = [pts.astype(\"float32\")]\n",
    "net.getLayer(conv8).blobs = [np.full([1, 313], 2.606, dtype=\"float32\")]"
   ]
  },
  {
   "cell_type": "code",
   "execution_count": 21,
   "metadata": {},
   "outputs": [],
   "source": [
    "image = cv2.imread(image_path)\n",
    "scaled = image.astype('float32')/255.0\n",
    "lab = cv2.cvtColor(scaled,cv2.COLOR_BGR2LAB)"
   ]
  },
  {
   "cell_type": "code",
   "execution_count": 22,
   "metadata": {},
   "outputs": [],
   "source": [
    "resized = cv2.resize(lab,(224,224))\n",
    "L = cv2.split(resized)[0]\n",
    "L -= 50"
   ]
  },
  {
   "cell_type": "code",
   "execution_count": 23,
   "metadata": {},
   "outputs": [],
   "source": [
    "net.setInput(cv2.dnn.blobFromImage(L))\n",
    "ab = net.forward()[0,:,:,:].transpose((1,2,0))\n",
    "\n",
    "ab = cv2.resize(ab,(image.shape[1],image.shape[0]))"
   ]
  },
  {
   "cell_type": "code",
   "execution_count": 24,
   "metadata": {},
   "outputs": [],
   "source": [
    "L = cv2.split(lab)[0]\n",
    "colorized = np.concatenate((L[:,:, np.newaxis],ab),axis=2)"
   ]
  },
  {
   "cell_type": "code",
   "execution_count": 25,
   "metadata": {},
   "outputs": [],
   "source": [
    "colorized = cv2.cvtColor(colorized, cv2.COLOR_LAB2BGR)\n",
    "colorized = np.clip(colorized, 0, 1)"
   ]
  },
  {
   "cell_type": "code",
   "execution_count": 26,
   "metadata": {},
   "outputs": [],
   "source": [
    "colorized = (255 * colorized).astype(\"uint8\")"
   ]
  },
  {
   "cell_type": "code",
   "execution_count": 28,
   "metadata": {},
   "outputs": [],
   "source": [
    "cv2.imshow(\"Original\", image)\n",
    "cv2.imshow(\"Colorized\", colorized)\n",
    "cv2.waitKey(0)\n",
    "cv2.destroyAllWindows()"
   ]
  },
  {
   "cell_type": "code",
   "execution_count": null,
   "metadata": {},
   "outputs": [],
   "source": []
  }
 ],
 "metadata": {
  "kernelspec": {
   "display_name": "Python 3",
   "language": "python",
   "name": "python3"
  },
  "language_info": {
   "codemirror_mode": {
    "name": "ipython",
    "version": 3
   },
   "file_extension": ".py",
   "mimetype": "text/x-python",
   "name": "python",
   "nbconvert_exporter": "python",
   "pygments_lexer": "ipython3",
   "version": "3.5.6"
  }
 },
 "nbformat": 4,
 "nbformat_minor": 2
}
